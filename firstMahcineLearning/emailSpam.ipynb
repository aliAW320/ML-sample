{
 "cells": [
  {
   "cell_type": "code",
   "id": "initial_id",
   "metadata": {
    "collapsed": true,
    "ExecuteTime": {
     "end_time": "2025-07-28T12:25:06.548679Z",
     "start_time": "2025-07-28T12:25:06.544119Z"
    }
   },
   "source": [
    "import pandas as pd\n",
    "import numpy as np\n",
    "from sklearn.linear_model import LogisticRegression\n",
    "from sklearn.model_selection import train_test_split\n",
    "from sklearn.metrics import accuracy_score\n",
    "from sklearn.preprocessing import LabelEncoder\n",
    "\n",
    "\n"
   ],
   "outputs": [],
   "execution_count": 2
  },
  {
   "metadata": {
    "ExecuteTime": {
     "end_time": "2025-07-28T12:34:51.799813Z",
     "start_time": "2025-07-28T12:34:51.794282Z"
    }
   },
   "cell_type": "code",
   "source": [
    "\"\"\"\n",
    "in this project i'm trying to find if an email is spam or not\n",
    "i am using the a simple data set and sklearn logistic regression\n",
    "based on the result we can call this project a successful one\n",
    "\"\"\""
   ],
   "id": "a00653fddea11e23",
   "outputs": [
    {
     "data": {
      "text/plain": [
       "\"\\nin this project i'm trying to find if an email is spam or not\\ni am using the a simple data set and sklearn logistic regression\\nbased on the result we can call this project a successful one\\n\""
      ]
     },
     "execution_count": 7,
     "metadata": {},
     "output_type": "execute_result"
    }
   ],
   "execution_count": 7
  },
  {
   "metadata": {
    "ExecuteTime": {
     "end_time": "2025-07-28T12:25:18.353802Z",
     "start_time": "2025-07-28T12:25:17.377862Z"
    }
   },
   "cell_type": "code",
   "source": [
    "data = pd.read_csv('emails.csv')\n",
    "data = data.drop(\"Email No.\" , axis=1)"
   ],
   "id": "875848cbac18876c",
   "outputs": [],
   "execution_count": 3
  },
  {
   "metadata": {
    "ExecuteTime": {
     "end_time": "2025-07-18T23:38:22.958555Z",
     "start_time": "2025-07-18T23:38:22.850485Z"
    }
   },
   "cell_type": "code",
   "source": "data.info()",
   "id": "76dfdc526600e0ed",
   "outputs": [
    {
     "name": "stdout",
     "output_type": "stream",
     "text": [
      "<class 'pandas.core.frame.DataFrame'>\n",
      "RangeIndex: 5172 entries, 0 to 5171\n",
      "Columns: 3001 entries, the to Prediction\n",
      "dtypes: int64(3001)\n",
      "memory usage: 118.4 MB\n"
     ]
    }
   ],
   "execution_count": 11
  },
  {
   "metadata": {
    "ExecuteTime": {
     "end_time": "2025-07-28T12:25:26.322460Z",
     "start_time": "2025-07-28T12:25:26.203382Z"
    }
   },
   "cell_type": "code",
   "source": [
    "y = data[\"Prediction\"]\n",
    "X = data.drop(\"Prediction\", axis=1)\n",
    "X_train , X_test , y_train , y_test = train_test_split(X,y, test_size=0.2, random_state=42)"
   ],
   "id": "dbd5c6daf652a0a3",
   "outputs": [],
   "execution_count": 5
  },
  {
   "metadata": {
    "ExecuteTime": {
     "end_time": "2025-07-28T12:25:42.682915Z",
     "start_time": "2025-07-28T12:25:30.524591Z"
    }
   },
   "cell_type": "code",
   "source": [
    "lr = LogisticRegression(max_iter=1000000000)\n",
    "lr.fit(X_train, y_train)\n",
    "y_pred = lr.predict(X_test)\n",
    "print(accuracy_score(y_test, y_pred))"
   ],
   "id": "cb2c53ab9aefccd7",
   "outputs": [
    {
     "name": "stdout",
     "output_type": "stream",
     "text": [
      "0.9719806763285024\n"
     ]
    }
   ],
   "execution_count": 6
  },
  {
   "metadata": {
    "ExecuteTime": {
     "end_time": "2025-07-18T23:46:34.055219Z",
     "start_time": "2025-07-18T23:46:34.047699Z"
    }
   },
   "cell_type": "code",
   "source": "lr.coef_",
   "id": "613393afaa79aa32",
   "outputs": [
    {
     "data": {
      "text/plain": [
       "array([[-0.33938093, -0.15458506,  0.15067259, ..., -0.08688193,\n",
       "        -0.15035972, -0.00890683]], shape=(1, 3000))"
      ]
     },
     "execution_count": 15,
     "metadata": {},
     "output_type": "execute_result"
    }
   ],
   "execution_count": 15
  }
 ],
 "metadata": {
  "kernelspec": {
   "display_name": "Python 3",
   "language": "python",
   "name": "python3"
  },
  "language_info": {
   "codemirror_mode": {
    "name": "ipython",
    "version": 2
   },
   "file_extension": ".py",
   "mimetype": "text/x-python",
   "name": "python",
   "nbconvert_exporter": "python",
   "pygments_lexer": "ipython2",
   "version": "2.7.6"
  }
 },
 "nbformat": 4,
 "nbformat_minor": 5
}
