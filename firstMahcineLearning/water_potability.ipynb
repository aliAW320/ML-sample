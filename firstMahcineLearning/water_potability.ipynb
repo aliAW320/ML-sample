{
 "cells": [
  {
   "cell_type": "code",
   "id": "initial_id",
   "metadata": {
    "collapsed": true,
    "ExecuteTime": {
     "end_time": "2025-07-28T22:16:40.173414Z",
     "start_time": "2025-07-28T22:16:40.169824Z"
    }
   },
   "source": [
    "import pandas as pd\n",
    "import numpy as np\n",
    "import matplotlib.pyplot as plt\n",
    "import seaborn as sns\n",
    "from sklearn.linear_model import LogisticRegression\n",
    "from sklearn.model_selection import train_test_split\n",
    "\n"
   ],
   "outputs": [],
   "execution_count": 39
  },
  {
   "metadata": {
    "ExecuteTime": {
     "end_time": "2025-07-28T21:17:32.330240Z",
     "start_time": "2025-07-28T21:17:32.323729Z"
    }
   },
   "cell_type": "code",
   "source": [
    "\"\"\"\n",
    "in this project i am working on to find out is a water potability\n",
    "to answer this question based on numerical data on the csv file , we are trying to write a solution for this problem\n",
    "this project is originally complited by mr. Amin Rezaeeyan\n",
    "github : https://github.com/AminRezaeeyan/\n",
    "\"\"\""
   ],
   "id": "705d8296df4eec09",
   "outputs": [
    {
     "data": {
      "text/plain": [
       "'\\nin this project i am working on to find out is a water potability\\nto answer this question based on numerical data on the csv file , we are trying to write a solution for this problem\\n'"
      ]
     },
     "execution_count": 2,
     "metadata": {},
     "output_type": "execute_result"
    }
   ],
   "execution_count": 2
  },
  {
   "metadata": {
    "ExecuteTime": {
     "end_time": "2025-07-28T22:16:43.318929Z",
     "start_time": "2025-07-28T22:16:43.305965Z"
    }
   },
   "cell_type": "code",
   "source": "data =  pd.read_csv('water_potability.csv')\n",
   "id": "b8a9b7d34a625eb2",
   "outputs": [],
   "execution_count": 40
  },
  {
   "metadata": {
    "ExecuteTime": {
     "end_time": "2025-07-28T22:16:45.563840Z",
     "start_time": "2025-07-28T22:16:45.554321Z"
    }
   },
   "cell_type": "code",
   "source": "data.info()",
   "id": "bd64f6f4a1ef0f99",
   "outputs": [
    {
     "name": "stdout",
     "output_type": "stream",
     "text": [
      "<class 'pandas.core.frame.DataFrame'>\n",
      "RangeIndex: 3276 entries, 0 to 3275\n",
      "Data columns (total 10 columns):\n",
      " #   Column           Non-Null Count  Dtype  \n",
      "---  ------           --------------  -----  \n",
      " 0   ph               2785 non-null   float64\n",
      " 1   Hardness         3276 non-null   float64\n",
      " 2   Solids           3276 non-null   float64\n",
      " 3   Chloramines      3276 non-null   float64\n",
      " 4   Sulfate          2495 non-null   float64\n",
      " 5   Conductivity     3276 non-null   float64\n",
      " 6   Organic_carbon   3276 non-null   float64\n",
      " 7   Trihalomethanes  3114 non-null   float64\n",
      " 8   Turbidity        3276 non-null   float64\n",
      " 9   Potability       3276 non-null   int64  \n",
      "dtypes: float64(9), int64(1)\n",
      "memory usage: 256.1 KB\n"
     ]
    }
   ],
   "execution_count": 41
  },
  {
   "metadata": {
    "ExecuteTime": {
     "end_time": "2025-07-28T22:16:48.124454Z",
     "start_time": "2025-07-28T22:16:48.117551Z"
    }
   },
   "cell_type": "code",
   "source": "data.isnull().sum()",
   "id": "cc3c2913a2f435b0",
   "outputs": [
    {
     "data": {
      "text/plain": [
       "ph                 491\n",
       "Hardness             0\n",
       "Solids               0\n",
       "Chloramines          0\n",
       "Sulfate            781\n",
       "Conductivity         0\n",
       "Organic_carbon       0\n",
       "Trihalomethanes    162\n",
       "Turbidity            0\n",
       "Potability           0\n",
       "dtype: int64"
      ]
     },
     "execution_count": 42,
     "metadata": {},
     "output_type": "execute_result"
    }
   ],
   "execution_count": 42
  },
  {
   "metadata": {
    "ExecuteTime": {
     "end_time": "2025-07-28T22:16:52.703551Z",
     "start_time": "2025-07-28T22:16:52.698603Z"
    }
   },
   "cell_type": "code",
   "source": [
    "\"\"\"\n",
    "as you can see there are so many null value i this data set\n",
    "and all of them Must be filled with the appropriate number.\n",
    "as you can guess the simplest way to do this , is to replace null value with the mean (average of the column)\n",
    "it it possible to also use linear regression to predict the null value\n",
    "\"\"\""
   ],
   "id": "46f72c446cff2ef7",
   "outputs": [
    {
     "data": {
      "text/plain": [
       "'\\nas you can see there are so many null value i this data set\\nand all of them Must be filled with the appropriate number.\\nas you can guess the simplest way to do this , is to replace null value with the mean (average of the column)\\nit it possible to also use linear regression to predict the null value\\n'"
      ]
     },
     "execution_count": 43,
     "metadata": {},
     "output_type": "execute_result"
    }
   ],
   "execution_count": 43
  },
  {
   "metadata": {
    "ExecuteTime": {
     "end_time": "2025-07-28T22:16:55.021002Z",
     "start_time": "2025-07-28T22:16:55.013648Z"
    }
   },
   "cell_type": "code",
   "source": [
    "\"\"\"\n",
    "to use linear regression first we take the column that can be Nan\n",
    "\"\"\"\n",
    "# another time\n",
    "data.isnull().sum()"
   ],
   "id": "d5a89ef0aea9d3e",
   "outputs": [
    {
     "data": {
      "text/plain": [
       "ph                 491\n",
       "Hardness             0\n",
       "Solids               0\n",
       "Chloramines          0\n",
       "Sulfate            781\n",
       "Conductivity         0\n",
       "Organic_carbon       0\n",
       "Trihalomethanes    162\n",
       "Turbidity            0\n",
       "Potability           0\n",
       "dtype: int64"
      ]
     },
     "execution_count": 44,
     "metadata": {},
     "output_type": "execute_result"
    }
   ],
   "execution_count": 44
  },
  {
   "metadata": {
    "ExecuteTime": {
     "end_time": "2025-07-28T21:57:36.754248Z",
     "start_time": "2025-07-28T21:57:36.750151Z"
    }
   },
   "cell_type": "code",
   "source": [
    "\"\"\"\n",
    "ph , sulfate and Trihalomethanes can be Nan on this data set\n",
    "we use the one that are not null as the training set and Nan should get predict\n",
    "\"\"\"\n"
   ],
   "id": "85bfdf0945bc34d",
   "outputs": [
    {
     "data": {
      "text/plain": [
       "'\\nph , sulfate and Trihalomethanes can be Nan on this data set\\nwe use the one that are not null as the training set and Nan should get predict\\n'"
      ]
     },
     "execution_count": 18,
     "metadata": {},
     "output_type": "execute_result"
    }
   ],
   "execution_count": 18
  },
  {
   "metadata": {
    "ExecuteTime": {
     "end_time": "2025-07-28T22:17:00.112992Z",
     "start_time": "2025-07-28T22:17:00.106423Z"
    }
   },
   "cell_type": "code",
   "source": [
    "\"\"\"\n",
    "first of all for ph\n",
    "\"\"\"\n",
    "data_ph_known = data[data[\"ph\"].notnull()]\n",
    "data_ph_unknown = data[data[\"ph\"].isnull()]\n",
    "drop_cols = [\"Trihalomethanes\", \"Sulfate\", \"ph\"]\n",
    "\n"
   ],
   "id": "ec4d8641cd6124c1",
   "outputs": [],
   "execution_count": 45
  },
  {
   "metadata": {
    "ExecuteTime": {
     "end_time": "2025-07-28T22:17:02.326330Z",
     "start_time": "2025-07-28T22:17:02.316090Z"
    }
   },
   "cell_type": "code",
   "source": [
    "\"\"\"\n",
    "now the ph data set is ready to train and predict the missing value\n",
    "\"\"\"\n",
    "from sklearn.linear_model import LinearRegression\n",
    "X_train_ph = data_ph_known.drop(drop_cols, axis=1)\n",
    "y_train_ph = data_ph_known[\"ph\"]\n",
    "\n",
    "X_predict_ph = data_ph_unknown.drop(drop_cols, axis=1)\n",
    "\n",
    "lnr = LinearRegression()\n",
    "lnr.fit(X_train_ph, y_train_ph)\n",
    "\n",
    "y_ph_predicted = lnr.predict(X_predict_ph)\n",
    "\n",
    "data.loc[data[\"ph\"].isnull(), \"ph\"] = y_ph_predicted"
   ],
   "id": "17cf173155ef0cc0",
   "outputs": [],
   "execution_count": 46
  },
  {
   "metadata": {
    "ExecuteTime": {
     "end_time": "2025-07-28T22:18:09.450271Z",
     "start_time": "2025-07-28T22:18:09.438109Z"
    }
   },
   "cell_type": "code",
   "source": [
    "\"\"\"\n",
    "now we just need to repeat the process\n",
    "\"\"\"\n",
    "# -------- Fill missing Sulfate --------\n",
    "# Step 1: Split known and unknown for Sulfate\n",
    "sulfate_known = data[data[\"Sulfate\"].notnull()]\n",
    "sulfate_unknown = data[data[\"Sulfate\"].isnull()]\n",
    "\n",
    "# Step 2: Drop columns that are not useful or contain too many NaNs\n",
    "drop_cols_sulfate = [\"Sulfate\", \"ph\", \"Trihalomethanes\"]  # ph and Trihalomethanes might have NaNs too\n",
    "X_train_sulfate = sulfate_known.drop(drop_cols_sulfate, axis=1)\n",
    "y_train_sulfate = sulfate_known[\"Sulfate\"]\n",
    "X_predict_sulfate = sulfate_unknown.drop(drop_cols_sulfate, axis=1)\n",
    "\n",
    "# Step 3: Train model and predict\n",
    "sulfate_model = LinearRegression()\n",
    "sulfate_model.fit(X_train_sulfate, y_train_sulfate)\n",
    "y_pred_sulfate = sulfate_model.predict(X_predict_sulfate)\n",
    "\n",
    "# Step 4: Fill predicted values\n",
    "data.loc[data[\"Sulfate\"].isnull(), \"Sulfate\"] = y_pred_sulfate"
   ],
   "id": "b8b32f75335f87ee",
   "outputs": [],
   "execution_count": 48
  },
  {
   "metadata": {
    "ExecuteTime": {
     "end_time": "2025-07-28T22:18:26.973426Z",
     "start_time": "2025-07-28T22:18:26.960120Z"
    }
   },
   "cell_type": "code",
   "source": [
    "# Step 1: Split known and unknown for Trihalomethanes\n",
    "thm_known = data[data[\"Trihalomethanes\"].notnull()]\n",
    "thm_unknown = data[data[\"Trihalomethanes\"].isnull()]\n",
    "\n",
    "# Step 2: Drop columns with potential missing values\n",
    "drop_cols_thm = [\"Trihalomethanes\", \"ph\", \"Sulfate\"]\n",
    "X_train_thm = thm_known.drop(drop_cols_thm, axis=1)\n",
    "y_train_thm = thm_known[\"Trihalomethanes\"]\n",
    "X_predict_thm = thm_unknown.drop(drop_cols_thm, axis=1)\n",
    "\n",
    "# Step 3: Train model and predict\n",
    "thm_model = LinearRegression()\n",
    "thm_model.fit(X_train_thm, y_train_thm)\n",
    "y_pred_thm = thm_model.predict(X_predict_thm)\n",
    "\n",
    "# Step 4: Fill predicted values\n",
    "data.loc[data[\"Trihalomethanes\"].isnull(), \"Trihalomethanes\"] = y_pred_thm"
   ],
   "id": "84de76e17a8d3a61",
   "outputs": [],
   "execution_count": 49
  },
  {
   "metadata": {
    "ExecuteTime": {
     "end_time": "2025-07-28T22:20:23.762716Z",
     "start_time": "2025-07-28T22:20:23.756510Z"
    }
   },
   "cell_type": "code",
   "source": [
    "\"\"\"\n",
    "now we can see we have no more Nan or null value for our data set and instead of just putting the mean of the data\n",
    "we can say we have a better predictions on what is going on our data\n",
    "\"\"\"\n",
    "data.isnull().sum()"
   ],
   "id": "657aff4ab9d2dda",
   "outputs": [
    {
     "data": {
      "text/plain": [
       "ph                 0\n",
       "Hardness           0\n",
       "Solids             0\n",
       "Chloramines        0\n",
       "Sulfate            0\n",
       "Conductivity       0\n",
       "Organic_carbon     0\n",
       "Trihalomethanes    0\n",
       "Turbidity          0\n",
       "Potability         0\n",
       "dtype: int64"
      ]
     },
     "execution_count": 51,
     "metadata": {},
     "output_type": "execute_result"
    }
   ],
   "execution_count": 51
  },
  {
   "metadata": {
    "ExecuteTime": {
     "end_time": "2025-07-28T22:20:29.807231Z",
     "start_time": "2025-07-28T22:20:29.803469Z"
    }
   },
   "cell_type": "code",
   "source": [
    "X = data.drop([\"Potability\"] , axis=1)\n",
    "y = data[\"Potability\"]"
   ],
   "id": "517a68d20d59dcdd",
   "outputs": [],
   "execution_count": 52
  },
  {
   "metadata": {
    "ExecuteTime": {
     "end_time": "2025-07-28T22:20:33.072572Z",
     "start_time": "2025-07-28T22:20:33.067331Z"
    }
   },
   "cell_type": "code",
   "source": "X_train , X_test , y_train , y_test = train_test_split(X , y , test_size = 0.2 , random_state = 42 )",
   "id": "c812134b9b6ca453",
   "outputs": [],
   "execution_count": 53
  },
  {
   "metadata": {
    "ExecuteTime": {
     "end_time": "2025-07-28T22:20:49.975299Z",
     "start_time": "2025-07-28T22:20:49.844363Z"
    }
   },
   "cell_type": "code",
   "source": [
    "logreg = LogisticRegression(max_iter=1000000000)\n",
    "logreg.fit(X_train, y_train)\n",
    "y_pred = logreg.predict(X_test)\n"
   ],
   "id": "140cf12c94b57e77",
   "outputs": [],
   "execution_count": 55
  },
  {
   "metadata": {
    "ExecuteTime": {
     "end_time": "2025-07-28T22:21:13.645860Z",
     "start_time": "2025-07-28T22:21:13.641073Z"
    }
   },
   "cell_type": "code",
   "source": [
    "from sklearn.metrics import accuracy_score\n",
    "accuracy = accuracy_score(y_test, y_pred)\n",
    "print(accuracy)"
   ],
   "id": "589ad438120a4a8",
   "outputs": [
    {
     "name": "stdout",
     "output_type": "stream",
     "text": [
      "0.6280487804878049\n"
     ]
    }
   ],
   "execution_count": 56
  }
 ],
 "metadata": {
  "kernelspec": {
   "display_name": "Python 3",
   "language": "python",
   "name": "python3"
  },
  "language_info": {
   "codemirror_mode": {
    "name": "ipython",
    "version": 2
   },
   "file_extension": ".py",
   "mimetype": "text/x-python",
   "name": "python",
   "nbconvert_exporter": "python",
   "pygments_lexer": "ipython2",
   "version": "2.7.6"
  }
 },
 "nbformat": 4,
 "nbformat_minor": 5
}
